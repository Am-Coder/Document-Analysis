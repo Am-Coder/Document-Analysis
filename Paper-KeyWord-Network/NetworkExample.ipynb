{
 "cells": [
  {
   "cell_type": "code",
   "execution_count": 73,
   "metadata": {},
   "outputs": [],
   "source": [
    "from collections import defaultdict \n",
    "import json\n",
    "import jsonpickle \n",
    "\n",
    "#Node structure for graph\n",
    "class Node:\n",
    "\n",
    "    def __init__(self,src,dest,wt):\n",
    "        self.src = src\n",
    "        self.dest = dest\n",
    "        self.wt = wt\n",
    "\n",
    "\n",
    "#This class represents an un-directed graph using adjacency list representation \n",
    "class Graph: \n",
    "   \n",
    "    def __init__(self,vertices): \n",
    "        self.V = vertices #No. of vertices \n",
    "        self.V_org = vertices \n",
    "        self.graph = defaultdict(list) # default dictionary to store graph \n",
    "   \n",
    "    # function to add an edge to graph \n",
    "    def addEdge(self,u,v,w): \n",
    "        self.graph[u].append(Node(u,v,w))\n",
    "        self.graph[v].append(Node(v,u,w))\n",
    "\n",
    "    #function to print graph\n",
    "    def printGraph(self):\n",
    "        for i in self.graph:\n",
    "            print(str(i) + \" is connected to \")\n",
    "            for node in self.graph[i]:\n",
    "                print(str(node.dest) + \"(Weight = \" + str(node.wt) + \")\" + \" \")\n",
    "            print(\"\\n\")\n",
    "\n",
    "    \n",
    "    def BFSi(self, s, max_levels):\n",
    "        visited = set()\n",
    " \n",
    "        queue = []\n",
    " \n",
    "        queue.append(s)\n",
    "        visited.add(s)\n",
    "        level = 0\n",
    "        result = {}\n",
    "        while queue:\n",
    "            aux = []\n",
    "            result[level] = []\n",
    "            \n",
    "            while queue:\n",
    "                s = queue.pop(0)\n",
    "                visited.add(s)\n",
    "                result[level].append(s)\n",
    "                for node in self.graph[s]:\n",
    "                    if node.dest not in visited:\n",
    "                        aux.append(node.dest)\n",
    "                        visited.add(node.dest)\n",
    "            level += 1\n",
    "            if level > max_levels:\n",
    "                break\n",
    "            for node in aux:\n",
    "                queue.append(node)\n",
    "            \n",
    "        return result            \n",
    "    \n",
    "    def export_network(self, filename = \"output\"):\n",
    "        filename += \".json\"\n",
    "        obj = jsonpickle.encode(self.graph)\n",
    "        with open(filename, \"w\") as outfile: \n",
    "            json.dump(obj, outfile)\n",
    "\n",
    "    def import_network(self, filename = \"output\"):\n",
    "        filename += \".json\"\n",
    "        with open('output.json') as json_file:\n",
    "            data = json.load(json_file)\n",
    "            self.graph = jsonpickle.decode(data)\n",
    "            self.V = len(self.graph)\n",
    "            self.V_org = len(self.graph)"
   ]
  },
  {
   "cell_type": "code",
   "execution_count": 74,
   "metadata": {},
   "outputs": [
    {
     "name": "stdout",
     "output_type": "stream",
     "text": [
      "{0: [3], 1: [1, 2], 2: [0]}\n",
      "{0: ['d'], 1: ['b', 'c'], 2: ['a']}\n"
     ]
    }
   ],
   "source": [
    "# Create a graph SAMPLE use \n",
    "g = Graph(4) \n",
    "g.addEdge(0, 1, 2) \n",
    "g.addEdge(0, 2, 2) \n",
    "g.addEdge(1, 2, 1) \n",
    "g.addEdge(1, 3, 1) \n",
    "g.addEdge(2, 3, 2) \n",
    "# g.printGraph()\n",
    "print(g.BFSi(3,3))\n",
    "\n",
    "g = Graph(4) \n",
    "g.addEdge('a', 'b', 2) \n",
    "g.addEdge('a', 'c', 2) \n",
    "g.addEdge('b', 'c', 1) \n",
    "g.addEdge('b', 'd', 1) \n",
    "g.addEdge('c', 'd', 2) \n",
    "# g.printGraph()\n",
    "print(g.BFSi('d',3))"
   ]
  },
  {
   "cell_type": "code",
   "execution_count": 75,
   "metadata": {},
   "outputs": [],
   "source": [
    "g.export_network()"
   ]
  },
  {
   "cell_type": "code",
   "execution_count": 76,
   "metadata": {},
   "outputs": [
    {
     "name": "stdout",
     "output_type": "stream",
     "text": [
      "4\n",
      "4\n"
     ]
    }
   ],
   "source": [
    "print(len(g.graph))\n",
    "print(g.V)"
   ]
  },
  {
   "cell_type": "code",
   "execution_count": 77,
   "metadata": {},
   "outputs": [
    {
     "name": "stdout",
     "output_type": "stream",
     "text": [
      "defaultdict(<class 'list'>, {'a': [<__main__.Node object at 0x7f5f6030e850>, <__main__.Node object at 0x7f5f6030e450>], 'b': [<__main__.Node object at 0x7f5f6030eed0>, <__main__.Node object at 0x7f5f6030edd0>, <__main__.Node object at 0x7f5f6030ea10>], 'c': [<__main__.Node object at 0x7f5f6030ed50>, <__main__.Node object at 0x7f5f6030e490>, <__main__.Node object at 0x7f5f6030ef10>], 'd': [<__main__.Node object at 0x7f5f6030e890>, <__main__.Node object at 0x7f5f6030eb10>]})\n",
      "{0: ['d'], 1: ['b', 'c'], 2: ['a']}\n"
     ]
    }
   ],
   "source": [
    "gg = Graph(100)\n",
    "gg.import_network()\n",
    "print(gg.graph)\n",
    "print(gg.BFSi('d',3))"
   ]
  },
  {
   "cell_type": "code",
   "execution_count": 78,
   "metadata": {},
   "outputs": [
    {
     "name": "stdout",
     "output_type": "stream",
     "text": [
      "4\n",
      "4\n"
     ]
    }
   ],
   "source": [
    "print(len(gg.graph))\n",
    "print(gg.V)"
   ]
  },
  {
   "cell_type": "code",
   "execution_count": null,
   "metadata": {},
   "outputs": [],
   "source": []
  }
 ],
 "metadata": {
  "kernelspec": {
   "display_name": "Python 3",
   "language": "python",
   "name": "python3"
  },
  "language_info": {
   "codemirror_mode": {
    "name": "ipython",
    "version": 3
   },
   "file_extension": ".py",
   "mimetype": "text/x-python",
   "name": "python",
   "nbconvert_exporter": "python",
   "pygments_lexer": "ipython3",
   "version": "3.7.7"
  }
 },
 "nbformat": 4,
 "nbformat_minor": 4
}
