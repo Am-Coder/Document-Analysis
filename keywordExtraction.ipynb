#pip install rake-nltk
from rake_nltk import Metric, Rake
r = Rake(min_length=1, max_length=3)
mytext = '''The explosive growth in the amount of available digital information and the number of visitors to the Internet have created a potential challenge of information overload which hinders timely access to items of interest on the Internet. Information retrieval systems, such as Google, DevilFinder and Altavista have partially solved this problem but prioritization and personalization (where a system maps available content to user’s interests and preferences) of information were absent. This has increased the demand for recommender systems more than ever before. Recommender systems are information filtering systems that deal with the problem of information overload [1] by filtering vital information fragment out of large amount of dynamically generated information according to user’s preferences, interest, or observed behavior about item [2]. Recommender system has the ability to predict whether a particular user would prefer an item or not based on the user’s profile. Recommender systems are beneficial to both service providers and users [3]. They reduce transaction costs of finding and selecting items in an online shopping environment [4]. Recommendation systems have also proved to improve decision making process and quality [5]. In e-commerce setting, recommender systems enhance revenues, for the fact that they are effective means of selling more products [3]. In scientific libraries, recommender systems support users by allowing them to move beyond catalog searches. Therefore, the need to use efficient and accurate recommendation techniques within a system that will provide relevant and dependable recommendations for users cannot be over-emphasized'''
r.extract_keywords_from_text(mytext)
#r.get_ranked_phrases()
#r.get_ranked_phrases_with_scores()
result = r.get_ranked_phrases_with_scores()
topResult = result[:5]
for x in topResult:
    print(x)
