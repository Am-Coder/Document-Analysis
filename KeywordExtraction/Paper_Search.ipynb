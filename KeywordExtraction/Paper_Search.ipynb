{
 "cells": [
  {
   "cell_type": "code",
   "execution_count": 59,
   "metadata": {},
   "outputs": [],
   "source": [
    "import pandas as pd"
   ]
  },
  {
   "cell_type": "code",
   "execution_count": 60,
   "metadata": {},
   "outputs": [],
   "source": [
    "dataset = pd.read_excel(\"Data.xlsx\")"
   ]
  },
  {
   "cell_type": "code",
   "execution_count": 61,
   "metadata": {
    "scrolled": false
   },
   "outputs": [
    {
     "name": "stdout",
     "output_type": "stream",
     "text": [
      "46985\n"
     ]
    }
   ],
   "source": [
    "print(len(dataset['Rake keywords']))"
   ]
  },
  {
   "cell_type": "code",
   "execution_count": 62,
   "metadata": {},
   "outputs": [],
   "source": [
    "# Gives sorted dictionary result of papers and number of matching keywords \n",
    "# between input keywords and rake extracted keywords from abstract\n",
    "def predict_rake(input_keywords, common_words_count):\n",
    "    res = {}\n",
    "    ran = len(dataset['Rake keywords'])\n",
    "    for i in range(ran):\n",
    "        val = dataset['Rake keywords'][i]\n",
    "        keywords = val.split(\";\")\n",
    "        com = calc_common(input_keywords, keywords)\n",
    "        if com >= common_words_count:\n",
    "            res[i] = com\n",
    "    res = sorted(res.items(), key = lambda kv:(kv[1], kv[0]), reverse = True)\n",
    "    return res\n",
    "\n",
    "# Gives sorted dictionary result of papers and number of matching keywords \n",
    "# between input keywords and yake extracted keywords from abstract\n",
    "def predict_yake(input_keywords, common_words_count):\n",
    "    res = {}\n",
    "    ran = len(dataset['Yake keywords'])\n",
    "    for i in range(ran):\n",
    "        val = dataset['Yake keywords'][i]\n",
    "        keywords = val.split(\";\")\n",
    "        com = calc_common(input_keywords, keywords)\n",
    "        if com >= common_words_count:\n",
    "            res[i] = com\n",
    "    res = sorted(res.items(), key = lambda kv:(kv[1], kv[0]), reverse = True)\n",
    "    return res\n",
    "\n",
    "# Gives sorted dictionary result of papers and number of matching keywords \n",
    "# between input keywords and author labelled keywords from abstract\n",
    "def predict_author_labelled(input_keywords, common_words_count):\n",
    "    res = {}\n",
    "    ran = len(dataset['keywords'])\n",
    "    for i in range(ran):\n",
    "        val = dataset['keywords'][i]\n",
    "        keywords = val.split(\";\")\n",
    "        com = calc_common(input_keywords, keywords)\n",
    "        if com >= common_words_count:\n",
    "            res[i] = com\n",
    "    res = sorted(res.items(), key = lambda kv:(kv[1], kv[0]), reverse = True)\n",
    "    return res\n",
    "\n",
    "def calc_common(input_keywords, keywords):\n",
    "    cou = 0\n",
    "    for w1 in input_keywords:\n",
    "        for w2 in keywords:\n",
    "            if(w1 == w2):\n",
    "                cou+=1\n",
    "    return cou\n"
   ]
  },
  {
   "cell_type": "code",
   "execution_count": 63,
   "metadata": {},
   "outputs": [],
   "source": [
    "result1 = predict_yake(['latent period'], 1)\n",
    "result2 = predict_rake(['latent period'], 1)\n",
    "result3 = predict_author_labelled(['latent period'], 1)\n"
   ]
  },
  {
   "cell_type": "code",
   "execution_count": 64,
   "metadata": {},
   "outputs": [
    {
     "name": "stdout",
     "output_type": "stream",
     "text": [
      "[(46984, 1)]\n"
     ]
    }
   ],
   "source": [
    "print(result1)"
   ]
  },
  {
   "cell_type": "code",
   "execution_count": 65,
   "metadata": {},
   "outputs": [
    {
     "name": "stdout",
     "output_type": "stream",
     "text": [
      "[(46984, 1)]\n"
     ]
    }
   ],
   "source": [
    "print(result2)"
   ]
  },
  {
   "cell_type": "code",
   "execution_count": 66,
   "metadata": {},
   "outputs": [
    {
     "name": "stdout",
     "output_type": "stream",
     "text": [
      "[]\n"
     ]
    }
   ],
   "source": [
    "print(result3)"
   ]
  }
 ],
 "metadata": {
  "kernelspec": {
   "display_name": "Python 3",
   "language": "python",
   "name": "python3"
  },
  "language_info": {
   "codemirror_mode": {
    "name": "ipython",
    "version": 3
   },
   "file_extension": ".py",
   "mimetype": "text/x-python",
   "name": "python",
   "nbconvert_exporter": "python",
   "pygments_lexer": "ipython3",
   "version": "3.7.7"
  }
 },
 "nbformat": 4,
 "nbformat_minor": 4
}
