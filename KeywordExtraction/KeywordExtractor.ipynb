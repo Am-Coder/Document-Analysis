{
 "cells": [
  {
   "cell_type": "code",
   "execution_count": null,
   "metadata": {},
   "outputs": [],
   "source": [
    "#pip install git+https://github.com/LIAAD/yake\n",
    "#pip install keybert\n",
    "#pip install rake-nltk"
   ]
  },
  {
   "cell_type": "code",
   "execution_count": null,
   "metadata": {},
   "outputs": [],
   "source": [
    "\n",
    "import pandas as pd\n",
    "import pathlib\n",
    "\n",
    "\n",
    "class DataHandler:\n",
    "    def __init__(self, location):\n",
    "        self.type = pathlib.Path(location).suffix\n",
    "        self.dataset_location = location\n",
    "        \n",
    "#         Use the pandas dataframe to get columns \n",
    "        if self.type == '.csv':\n",
    "            self.df = pd.read_csv(location, nrows=5000)\n",
    "        elif self.type == '.xlsx':\n",
    "            self.df = pd.read_excel(location, nrows=5000)\n",
    "\n",
    "    def get_dataframe(self):\n",
    "        return self.df"
   ]
  },
  {
   "cell_type": "code",
   "execution_count": null,
   "metadata": {},
   "outputs": [],
   "source": [
    "import xlsxwriter\n",
    "def store(name, extracted_keywords):\n",
    "    workbook = xlsxwriter.Workbook(name+'.xlsx')\n",
    "    worksheet = workbook.add_worksheet()\n",
    "    def convert_tuple(value):\n",
    "        if not isinstance(value, tuple):\n",
    "            return value\n",
    "        return str(value[0])\n",
    "    col = 0\n",
    "    for row, data in enumerate(extracted_keywords):\n",
    "        data = map(convert_tuple, data)\n",
    "        worksheet.write_row(row, col, data)\n",
    "\n",
    "    workbook.close()"
   ]
  },
  {
   "cell_type": "code",
   "execution_count": null,
   "metadata": {},
   "outputs": [],
   "source": [
    "import yake\n",
    "def yakealgo():\n",
    "    language = \"en\"\n",
    "    max_ngram_size = 3\n",
    "    deduplication_thresold = 0.9\n",
    "    deduplication_algo = 'seqm'\n",
    "    windowSize = 1\n",
    "    numOfKeywords = 20\n",
    "    kw_extractor = yake.KeywordExtractor(lan=language, n=max_ngram_size, dedupLim=deduplication_thresold, dedupFunc=deduplication_algo, windowsSize=windowSize, top=numOfKeywords, features=None)\n",
    "    dh = DataHandler(\"Data.xlsx\")\n",
    "    df = dh.get_dataframe()\n",
    "    extracted_keywords = []\n",
    "    for abs in df['Abstract']:\n",
    "        keywords = kw_extractor.extract_keywords(abs)\n",
    "        extracted_keywords.append(keywords)\n",
    "    store(\"yake\", extracted_keywords)"
   ]
  },
  {
   "cell_type": "code",
   "execution_count": null,
   "metadata": {},
   "outputs": [],
   "source": [
    "from keybert import KeyBERT\n",
    "def keybertalgo():\n",
    "    model = KeyBERT('distilbert-base-nli-mean-tokens')\n",
    "\n",
    "    dh = DataHandler(\"Data.xlsx\")\n",
    "    df = dh.get_dataframe()\n",
    "    extracted_keywords = []\n",
    "    for abs in df['Abstract']:\n",
    "        keywords = model.extract_keywords(abs, keyphrase_ngram_range=(1, 3), stop_words=None,use_maxsum=True, nr_candidates=20, top_n=20)\n",
    "        extracted_keywords.append(keywords)\n",
    "    store(\"keybert\", extracted_keywords)"
   ]
  },
  {
   "cell_type": "code",
   "execution_count": null,
   "metadata": {},
   "outputs": [],
   "source": [
    "from rake_nltk import Metric, Rake\n",
    "def rakealgo():\n",
    "    dh = DataHandler(\"Data.xlsx\")\n",
    "    df = dh.get_dataframe()\n",
    "    extracted_keywords = []\n",
    "    for abs in df['Abstract']:\n",
    "        r = Rake(min_length=1, max_length=3)\n",
    "        r.extract_keywords_from_text(abs)\n",
    "        #r.get_ranked_phrases()\n",
    "        #r.get_ranked_phrases_with_scores()\n",
    "        result = r.get_ranked_phrases()\n",
    "        topResult = result[:20]\n",
    "        extracted_keywords.append(topResult)\n",
    "    store(\"rake\", extracted_keywords)"
   ]
  },
  {
   "cell_type": "code",
   "execution_count": null,
   "metadata": {},
   "outputs": [],
   "source": [
    "yakealgo()\n",
    "keybertalgo()\n",
    "rakealgo()"
   ]
  }
 ],
 "metadata": {
  "kernelspec": {
   "display_name": "Python 3",
   "language": "python",
   "name": "python3"
  },
  "language_info": {
   "codemirror_mode": {
    "name": "ipython",
    "version": 3
   },
   "file_extension": ".py",
   "mimetype": "text/x-python",
   "name": "python",
   "nbconvert_exporter": "python",
   "pygments_lexer": "ipython3",
   "version": "3.8.5"
  }
 },
 "nbformat": 4,
 "nbformat_minor": 4
}
